{
  "nbformat": 4,
  "nbformat_minor": 0,
  "metadata": {
    "colab": {
      "provenance": [],
      "gpuType": "T4",
      "authorship_tag": "ABX9TyMrG231hV1UYoDNbMx/SR2F",
      "include_colab_link": true
    },
    "kernelspec": {
      "name": "python3",
      "display_name": "Python 3"
    },
    "language_info": {
      "name": "python"
    },
    "accelerator": "GPU"
  },
  "cells": [
    {
      "cell_type": "markdown",
      "metadata": {
        "id": "view-in-github",
        "colab_type": "text"
      },
      "source": [
        "<a href=\"https://colab.research.google.com/github/rabbicse/machine-learning/blob/master/music/diffrythm_colab.ipynb\" target=\"_parent\"><img src=\"https://colab.research.google.com/assets/colab-badge.svg\" alt=\"Open In Colab\"/></a>"
      ]
    },
    {
      "cell_type": "code",
      "execution_count": null,
      "metadata": {
        "id": "Z_WE9U7cFqV2"
      },
      "outputs": [],
      "source": [
        "# 1. Clone repository and install dependencies\n",
        "!git clone https://github.com/ASLP-lab/DiffRhythm.git\n",
        "%cd DiffRhythm\n",
        "\n",
        "!apt-get install espeak-ng\n",
        "!pip install -r requirements.txt\n",
        "!pip install gradio pyngrok\n",
        "\n",
        "# 2. Additional installs (based on repo analysis)\n",
        "!pip install torchaudio omegaconf"
      ]
    },
    {
      "cell_type": "code",
      "source": [
        "# 3. Setup imports (adjusted for actual repo structure)\n",
        "%cd DiffRhythm\n",
        "# import torch\n",
        "# from gradio import Interface, Audio\n",
        "# import os\n",
        "# #from config import Config\n",
        "# from model import DiffRhythm  # Actual model class name from repo\n",
        "# from inference import generate  # The actual inference function\n",
        "\n",
        "!bash scripts/infer_wav_ref.sh"
      ],
      "metadata": {
        "colab": {
          "base_uri": "https://localhost:8080/"
        },
        "id": "WkVqnuGvMQ46",
        "outputId": "a94b6045-827b-42e8-810a-36ae7521a8d5"
      },
      "execution_count": null,
      "outputs": [
        {
          "output_type": "stream",
          "name": "stdout",
          "text": [
            "/content/DiffRhythm\n",
            "Current working directory: /content/DiffRhythm\n",
            "2025-08-12 07:47:16.572514: E external/local_xla/xla/stream_executor/cuda/cuda_fft.cc:467] Unable to register cuFFT factory: Attempting to register factory for plugin cuFFT when one has already been registered\n",
            "WARNING: All log messages before absl::InitializeLog() is called are written to STDERR\n",
            "E0000 00:00:1754984836.876374    2262 cuda_dnn.cc:8579] Unable to register cuDNN factory: Attempting to register factory for plugin cuDNN when one has already been registered\n",
            "E0000 00:00:1754984836.958762    2262 cuda_blas.cc:1407] Unable to register cuBLAS factory: Attempting to register factory for plugin cuBLAS when one has already been registered\n",
            "W0000 00:00:1754984837.580538    2262 computation_placer.cc:177] computation placer already registered. Please check linkage and avoid linking the same target more than once.\n",
            "W0000 00:00:1754984837.580594    2262 computation_placer.cc:177] computation placer already registered. Please check linkage and avoid linking the same target more than once.\n",
            "W0000 00:00:1754984837.580602    2262 computation_placer.cc:177] computation placer already registered. Please check linkage and avoid linking the same target more than once.\n",
            "W0000 00:00:1754984837.580607    2262 computation_placer.cc:177] computation placer already registered. Please check linkage and avoid linking the same target more than once.\n",
            "2025-08-12 07:47:17.636172: I tensorflow/core/platform/cpu_feature_guard.cc:210] This TensorFlow binary is optimized to use available CPU instructions in performance-critical operations.\n",
            "To enable the following instructions: AVX2 FMA, in other operations, rebuild TensorFlow with the appropriate compiler flags.\n",
            "cfm_model.pt: 100% 2.22G/2.22G [00:14<00:00, 151MB/s]\n",
            "./g2p/sources/g2p_chinese_model/poly_bert_model.onnx\n",
            "/usr/local/lib/python3.11/dist-packages/onnxruntime/capi/onnxruntime_inference_collection.py:121: UserWarning: Specified provider 'CUDAExecutionProvider' is not in available provider names.Available providers: 'AzureExecutionProvider, CPUExecutionProvider'\n",
            "  warnings.warn(\n",
            "config.json: 100% 847/847 [00:00<00:00, 5.21MB/s]\n",
            "config.json: 3.13kB [00:00, 11.8MB/s]\n",
            "/usr/local/lib/python3.11/dist-packages/torch/nn/utils/weight_norm.py:143: FutureWarning: `torch.nn.utils.weight_norm` is deprecated in favor of `torch.nn.utils.parametrizations.weight_norm`.\n",
            "  WeightNorm.apply(module, name, dim)\n",
            "pytorch_model.bin: 100% 1.33G/1.33G [00:34<00:00, 39.0MB/s]\n",
            "The argument `trust_remote_code` is to be used with Auto classes. It has no effect here and is ignored.\n",
            "config.json: 100% 615/615 [00:00<00:00, 3.40MB/s]\n",
            "model.safetensors: 100% 1.12G/1.12G [00:21<00:00, 52.9MB/s]\n",
            "pytorch_model.bin: 100% 2.65G/2.65G [02:04<00:00, 21.4MB/s]\n",
            "vae_model.pt: 100% 625M/625M [00:16<00:00, 37.5MB/s]\n",
            "WARNING:phonemizer:words count mismatch on 100.0% of the lines (1/1)\n",
            "WARNING:phonemizer:words count mismatch on 100.0% of the lines (1/1)\n",
            "WARNING:phonemizer:words count mismatch on 100.0% of the lines (1/1)\n",
            "WARNING:phonemizer:words count mismatch on 100.0% of the lines (1/1)\n"
          ]
        }
      ]
    },
    {
      "cell_type": "code",
      "source": [],
      "metadata": {
        "id": "PnGrmjcDMUkk"
      },
      "execution_count": null,
      "outputs": []
    }
  ]
}